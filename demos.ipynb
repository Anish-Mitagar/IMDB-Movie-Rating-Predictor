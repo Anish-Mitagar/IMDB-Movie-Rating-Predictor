{
 "cells": [
  {
   "cell_type": "code",
   "execution_count": 2,
   "metadata": {},
   "outputs": [],
   "source": [
    "key = \"k_frwsnx5q\""
   ]
  },
  {
   "cell_type": "code",
   "execution_count": 3,
   "metadata": {},
   "outputs": [
    {
     "name": "stdout",
     "output_type": "stream",
     "text": [
      "Init Plugin\n",
      "Init Graph Optimizer\n",
      "Init Kernel\n"
     ]
    }
   ],
   "source": [
    "import numpy as np\n",
    "import tensorflow.keras as keras\n",
    "from keras.models import Sequential\n",
    "from keras.layers import Dense\n",
    "from keras.layers import Dropout\n",
    "from sklearn.datasets import load_digits\n",
    "from sklearn.utils import shuffle\n",
    "from matplotlib import pyplot as plt\n",
    "import tensorflow as tf\n",
    "from keras.optimizer_v2.adam import Adam\n",
    "from sklearn.ensemble import RandomForestClassifier\n",
    "import gc\n",
    "import movie_scraper\n",
    "import ast\n",
    "import csv\n",
    "import time"
   ]
  },
  {
   "cell_type": "code",
   "execution_count": 4,
   "metadata": {},
   "outputs": [],
   "source": [
    "def to_final_class_vector(i):\n",
    "    indice = np.where(i == np.amax(i))\n",
    "    i2 = np.zeros(5)\n",
    "    i2[indice[0][0]] = 1\n",
    "    if indice[0][0] == 0:\n",
    "        print(\"Great\")\n",
    "    elif indice[0][0] == 1:\n",
    "        print(\"Good\")\n",
    "    elif indice[0][0] == 2:\n",
    "        print(\"Okay\")\n",
    "    elif indice[0][0] == 3:\n",
    "        print(\"Bad\")\n",
    "    else:\n",
    "        print(\"Awful\")\n",
    "    return i2"
   ]
  },
  {
   "cell_type": "markdown",
   "metadata": {},
   "source": [
    "Webscraping"
   ]
  },
  {
   "cell_type": "code",
   "execution_count": 5,
   "metadata": {},
   "outputs": [
    {
     "name": "stdout",
     "output_type": "stream",
     "text": [
      "SUCESS: Pulp Fiction\n",
      "\n",
      "SUCESS: The Amazing Spider-Man 2\n",
      "\n",
      "SUCESS: The Shawshank Redemption\n",
      "\n"
     ]
    }
   ],
   "source": [
    "f = open(\"testing_files/test_names.txt\", \"r\")\n",
    "names = f.readlines()\n",
    "w0 = open(\"testing_files/test.txt\", \"a\")\n",
    "\n",
    "for i in range (len(names)):\n",
    "    #15 API Calls per film\n",
    "\n",
    "    time.sleep(0.5)\n",
    "    movie_name = names[i]\n",
    "    movie_id = movie_scraper.get_movie_id(key, movie_name)\n",
    "    movie_rating = movie_scraper.get_ratings(key, movie_id, movie_name)\n",
    "    movie_actors, movie_actors_ids = movie_scraper.get_actors(key, movie_id, movie_name)\n",
    "    movie_num_wins, movie_num_nominations = movie_scraper.get_movie_awards(key, movie_id, movie_name)\n",
    "    movie_actors_awards, cum_actors_oscars, cum_actors_wins, cum_actors_nominations = movie_scraper.get_actors_awards(key, movie_actors_ids, movie_actors)\n",
    "    movie_demographics0, movie_demographics1, movie_demographics2, movie_demographics3, movie_demographics4 = movie_scraper.get_gender_and_age_demographics(key, movie_id, movie_name)\n",
    "\n",
    "    data = (movie_name, movie_id, movie_rating[0], \n",
    "            movie_actors, movie_actors_ids, movie_num_wins, \n",
    "            movie_num_nominations, movie_actors_awards, \n",
    "            cum_actors_oscars, cum_actors_wins, cum_actors_nominations, \n",
    "            movie_demographics0, movie_demographics1, movie_demographics2, movie_demographics3, movie_demographics4)\n",
    "    \n",
    "    if not all(data):\n",
    "        print(\"FAILED: \" + str(movie_name))\n",
    "\n",
    "\n",
    "    else:\n",
    "        print(\"SUCESS: \" + str(movie_name))\n",
    "\n",
    "        data = {\"movie name\": movie_name, \n",
    "                \"movie id\": movie_id, \n",
    "                \"movie rating\": movie_rating[0], #y\n",
    "                \"movie num awards\": movie_num_wins,\n",
    "                \"movie num nominations\": movie_num_nominations,\n",
    "                \"percent male reviewers\": movie_demographics0, #x (0.0-1.0)\n",
    "                \"percent female reviewers\": movie_demographics1, #x (0.0-1.0)\n",
    "                \"percent under 30 reviewers\": movie_demographics2, #x (0.0-1.0)\n",
    "                \"percent 30-45 reviewers\": movie_demographics3, #x (0.0-1.0)\n",
    "                \"percent over 45 reviewers\": movie_demographics4, #x (0.0-1.0)\n",
    "                \"movie actor awards\": movie_actors_awards,\n",
    "                \"cumulative actor oscars\": cum_actors_oscars, #x (a reasonable integer with no extreme values)\n",
    "                \"cumulative actor wins\": cum_actors_wins, #x (a reasonable integer with no extreme values)\n",
    "                \"cumulative actor nominations\": cum_actors_nominations} #x (a reasonable integer with no extreme values)\n",
    "\n",
    "        w0.write((str(data)))\n",
    "        w0.write('\\n')\n",
    "\n",
    "w0.close()\n",
    "f.close()"
   ]
  },
  {
   "cell_type": "markdown",
   "metadata": {},
   "source": [
    "Creating CSV datafiles"
   ]
  },
  {
   "cell_type": "code",
   "execution_count": 6,
   "metadata": {},
   "outputs": [
    {
     "name": "stdout",
     "output_type": "stream",
     "text": [
      "x features: [0.84, 0.16, 0.22, 0.61, 0.17, 10, 168, 283]\n",
      "y value for regression: [8.9]\n",
      "y value for classification: [1, 0, 0, 0, 0]\n",
      "x features: [0.86, 0.14, 0.32, 0.56, 0.12, 8, 286, 616]\n",
      "y value for regression: [6.6]\n",
      "y value for classification: [0, 0, 1, 0, 0]\n",
      "x features: [0.83, 0.17, 0.23, 0.61, 0.16, 6, 128, 158]\n",
      "y value for regression: [9.3]\n",
      "y value for classification: [1, 0, 0, 0, 0]\n"
     ]
    }
   ],
   "source": [
    "f = open(\"testing_files/test.txt\", \"r\")\n",
    "dictionaries = f.readlines()\n",
    "\n",
    "for i in range(len(dictionaries)):\n",
    "    dictionaries[i] = (dictionaries[i]).strip()\n",
    "\n",
    "def data():\n",
    "    \n",
    "    for j in range(len(dictionaries)):\n",
    "        try: \n",
    "            if len(dictionaries[j]) != 0:\n",
    "                elements = ast.literal_eval((dictionaries[j]))\n",
    "\n",
    "                mr  = elements[\"movie rating\"]\n",
    "                pmr = elements[\"percent male reviewers\"]\n",
    "                pfr = elements[\"percent female reviewers\"]\n",
    "                put = elements[\"percent under 30 reviewers\"]\n",
    "                ptf = elements[\"percent 30-45 reviewers\"]\n",
    "                pof = elements[\"percent over 45 reviewers\"]\n",
    "                cao = elements[\"cumulative actor oscars\"]\n",
    "                caw = elements[\"cumulative actor wins\"]\n",
    "                can = elements[\"cumulative actor nominations\"]\n",
    "\n",
    "            x_val = [pmr,pfr,put,ptf,pof,cao,caw,can]\n",
    "            y_val_continuous = [float(mr)]\n",
    "\n",
    "            if y_val_continuous[0] >= 8.0:\n",
    "                y_val_classification = [1, 0, 0, 0, 0]\n",
    "            elif y_val_continuous[0] >= 7.0:\n",
    "                y_val_classification = [0, 1, 0, 0, 0]\n",
    "            elif y_val_continuous[0] >= 6.0:\n",
    "                y_val_classification = [0, 0, 1, 0, 0]\n",
    "            elif y_val_continuous[0] >= 3.0:\n",
    "                y_val_classification = [0, 0, 0, 1, 0]\n",
    "            else:\n",
    "                y_val_classification = [0, 0, 0, 0, 1]\n",
    "\n",
    "            with open('testing_files/test_x.csv', 'a', encoding='UTF8') as f:\n",
    "                writer = csv.writer(f)\n",
    "                writer.writerow(x_val)\n",
    "\n",
    "            f.close()\n",
    "\n",
    "            with open('testing_files/test_y_continuous.csv', 'a', encoding='UTF8') as f:\n",
    "                writer = csv.writer(f)\n",
    "                writer.writerow(y_val_continuous)\n",
    "\n",
    "            f.close()\n",
    "\n",
    "            with open('testing_files/test_y_classification.csv', 'a', encoding='UTF8') as f:\n",
    "                writer = csv.writer(f)\n",
    "                writer.writerow(y_val_classification)\n",
    "\n",
    "            f.close()\n",
    "\n",
    "            print(f'x features: {x_val}')\n",
    "            print(f'y value for regression: {y_val_continuous}')\n",
    "            print(f'y value for classification: {y_val_classification}')\n",
    "\n",
    "        except Exception as e:\n",
    "            print(e)\n",
    "            print(\"Failed at row \" + str(j))\n",
    "\n",
    "data()\n"
   ]
  },
  {
   "cell_type": "code",
   "execution_count": 7,
   "metadata": {},
   "outputs": [],
   "source": [
    "actors = [\"Natalie Portman\", \"Andrew Garfield\", \"Will Smith\", \"Chris Rock\", \"Ben Affleck\", \"Gal Gadot\", \"Chris Evans\", \"Kevin James\", \"Chris Pine\", \"Kevin Hart\"]\n",
    "percentMaleAudience = 0.8\n",
    "percent30under = 0.60\n",
    "percent30_45 = 0.30\n",
    "percent45over = 0.10"
   ]
  },
  {
   "cell_type": "code",
   "execution_count": 8,
   "metadata": {},
   "outputs": [
    {
     "name": "stdout",
     "output_type": "stream",
     "text": [
      "[0.03079610305453737, 6.034778058286225, -3.97993563087433, -1.3319108266550153, 1.5427372012928036, 3.0937267223342766, 3.965337133506138]\n"
     ]
    }
   ],
   "source": [
    "feature_vector = movie_scraper.to_Feature_Vector(actors, percentMaleAudience, percent30under, percent30_45, percent45over)\n",
    "print(feature_vector)"
   ]
  },
  {
   "cell_type": "markdown",
   "metadata": {},
   "source": [
    "Regression Prediction"
   ]
  },
  {
   "cell_type": "code",
   "execution_count": 9,
   "metadata": {},
   "outputs": [
    {
     "name": "stdout",
     "output_type": "stream",
     "text": [
      "Metal device set to: Apple M1 Max\n",
      "\n",
      "systemMemory: 32.00 GB\n",
      "maxCacheSize: 10.67 GB\n",
      "\n"
     ]
    },
    {
     "name": "stderr",
     "output_type": "stream",
     "text": [
      "2022-05-04 18:52:31.911510: I tensorflow/core/common_runtime/pluggable_device/pluggable_device_factory.cc:305] Could not identify NUMA node of platform GPU ID 0, defaulting to 0. Your kernel may not have been built with NUMA support.\n",
      "2022-05-04 18:52:31.911651: I tensorflow/core/common_runtime/pluggable_device/pluggable_device_factory.cc:271] Created TensorFlow device (/job:localhost/replica:0/task:0/device:GPU:0 with 0 MB memory) -> physical PluggableDevice (device: 0, name: METAL, pci bus id: <undefined>)\n"
     ]
    }
   ],
   "source": [
    "sample_model = keras.models.load_model('saved_models/nn/regression/regression_model_fold_1.h5')"
   ]
  },
  {
   "cell_type": "code",
   "execution_count": 10,
   "metadata": {},
   "outputs": [
    {
     "name": "stderr",
     "output_type": "stream",
     "text": [
      "2022-05-04 18:52:41.746127: I tensorflow/compiler/mlir/mlir_graph_optimization_pass.cc:176] None of the MLIR Optimization Passes are enabled (registered 2)\n",
      "2022-05-04 18:52:41.746304: W tensorflow/core/platform/profile_utils/cpu_utils.cc:128] Failed to get CPU frequency: 0 Hz\n",
      "2022-05-04 18:52:41.781563: I tensorflow/core/grappler/optimizers/custom_graph_optimizer_registry.cc:112] Plugin optimizer for device_type GPU is enabled.\n"
     ]
    },
    {
     "name": "stdout",
     "output_type": "stream",
     "text": [
      "[[7.9171705]]\n",
      "<class 'numpy.ndarray'>\n"
     ]
    }
   ],
   "source": [
    "with tf.device('/device:GPU:0'):\n",
    "    pred = sample_model.predict([feature_vector])\n",
    "print(pred)\n",
    "print(type(pred))"
   ]
  },
  {
   "cell_type": "markdown",
   "metadata": {},
   "source": [
    "CLassification Prediction"
   ]
  },
  {
   "cell_type": "code",
   "execution_count": 11,
   "metadata": {},
   "outputs": [],
   "source": [
    "sample_model2 = keras.models.load_model('saved_models/nn/classification/classification_model_fold_1.h5')"
   ]
  },
  {
   "cell_type": "code",
   "execution_count": 12,
   "metadata": {},
   "outputs": [
    {
     "name": "stderr",
     "output_type": "stream",
     "text": [
      "2022-05-04 18:53:01.624151: I tensorflow/core/grappler/optimizers/custom_graph_optimizer_registry.cc:112] Plugin optimizer for device_type GPU is enabled.\n"
     ]
    },
    {
     "name": "stdout",
     "output_type": "stream",
     "text": [
      "[0.08040649 0.2495852  0.4207601  0.24214728 0.00710093]\n",
      "Okay\n",
      "[0. 0. 1. 0. 0.]\n"
     ]
    }
   ],
   "source": [
    "with tf.device('/device:GPU:0'):\n",
    "    pred2 = sample_model2.predict([feature_vector])[0]\n",
    "print(pred2)\n",
    "print(to_final_class_vector(pred2))\n"
   ]
  },
  {
   "cell_type": "code",
   "execution_count": null,
   "metadata": {},
   "outputs": [],
   "source": [
    "preds = []\n",
    "for i in range(10):\n",
    "    sample_model = keras.models.load_model(f'saved_models/nn/regression/regression_model_fold_{i}.h5')\n",
    "    pred = sample_model.predict([[0.406931714,1.071644936,-0.004680542,-0.717662002,0.880286532,0.759274252,0.483845934]])[0]\n",
    "    preds.append(pred)\n",
    "    del sample_model\n",
    "    del pred\n",
    "    gc.collect\n",
    "    keras.backend.clear_session()\n",
    "preds = np.array(preds)\n",
    "print(preds)"
   ]
  },
  {
   "cell_type": "code",
   "execution_count": null,
   "metadata": {},
   "outputs": [],
   "source": [
    "def ensemble_nn_prediction(models, regression, X):\n",
    "    pred = None\n",
    "    preds = []\n",
    "    if regression:\n",
    "        for model in models:\n",
    "            predY = model.predict(X)\n",
    "            preds.append(predY)\n",
    "        avg = np.average(np.array(preds))\n",
    "        pred = avg\n",
    "    else:\n",
    "        for model in models:\n",
    "            predY = model.predict(X)\n",
    "            preds.append(predY[0])\n",
    "        preds = np.array(pred)\n",
    "        pred = np.sum(preds, axis=0)\n",
    "        pred = to_final_class_vector(pred)\n",
    "\n",
    "    return pred"
   ]
  }
 ],
 "metadata": {
  "interpreter": {
   "hash": "28dc3387228530e489fa2863a9023ea8985cbe2603a5639e863ec2d3368621b1"
  },
  "kernelspec": {
   "display_name": "Python 3.9 (tensorflow)",
   "language": "python",
   "name": "python3"
  },
  "language_info": {
   "codemirror_mode": {
    "name": "ipython",
    "version": 3
   },
   "file_extension": ".py",
   "mimetype": "text/x-python",
   "name": "python",
   "nbconvert_exporter": "python",
   "pygments_lexer": "ipython3",
   "version": "3.9.15 (main, Nov 24 2022, 08:28:41) \n[Clang 14.0.6 ]"
  },
  "orig_nbformat": 4
 },
 "nbformat": 4,
 "nbformat_minor": 2
}
