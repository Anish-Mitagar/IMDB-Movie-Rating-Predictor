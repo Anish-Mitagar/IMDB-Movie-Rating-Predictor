{
 "cells": [
  {
   "cell_type": "code",
   "execution_count": 1,
   "metadata": {},
   "outputs": [
    {
     "name": "stdout",
     "output_type": "stream",
     "text": [
      "Init Plugin\n",
      "Init Graph Optimizer\n",
      "Init Kernel\n"
     ]
    }
   ],
   "source": [
    "import numpy as np\n",
    "import tensorflow.keras as keras\n",
    "from keras.models import Sequential\n",
    "from keras.layers import Dense\n",
    "from keras.layers import Dropout\n",
    "from sklearn.datasets import load_digits\n",
    "from sklearn.utils import shuffle\n",
    "from matplotlib import pyplot as plt\n",
    "import tensorflow as tf\n",
    "from scipy import stats as st\n",
    "from keras.optimizer_v2.adam import Adam\n",
    "import gc"
   ]
  },
  {
   "cell_type": "code",
   "execution_count": 2,
   "metadata": {},
   "outputs": [
    {
     "name": "stdout",
     "output_type": "stream",
     "text": [
      "[PhysicalDevice(name='/physical_device:CPU:0', device_type='CPU'), PhysicalDevice(name='/physical_device:GPU:0', device_type='GPU')]\n",
      "2.5.0\n"
     ]
    }
   ],
   "source": [
    "# Check for TensorFlow GPU access\n",
    "print(tf.config.list_physical_devices())\n",
    "\n",
    "# See TensorFlow version\n",
    "print(tf.__version__)"
   ]
  },
  {
   "cell_type": "code",
   "execution_count": 7,
   "metadata": {},
   "outputs": [],
   "source": [
    "X_Train = np.genfromtxt('txt_files/test_x_norm.txt', delimiter=\",\")\n",
    "Y_Train = np.genfromtxt('txt_files/test_y_continuous.txt', delimiter=\",\")"
   ]
  },
  {
   "cell_type": "code",
   "execution_count": 3,
   "metadata": {},
   "outputs": [],
   "source": [
    "def create_k_fold_sets(arr, n=10):\n",
    "    newarr = np.array_split(arr, n)\n",
    "    splits = []\n",
    "    for i in range(n):\n",
    "        test_seg = newarr[i]\n",
    "        if i == 0: \n",
    "            train_seg = newarr[1]\n",
    "        else:\n",
    "            train_seg = newarr[0]\n",
    "        for j in range(n):\n",
    "            if j == i:\n",
    "                continue\n",
    "            if not np.array_equal(train_seg, newarr[j]):\n",
    "                train_seg = np.concatenate((train_seg, newarr[j]), axis=0)\n",
    "        splits.append((train_seg, test_seg))\n",
    "    return splits"
   ]
  },
  {
   "cell_type": "code",
   "execution_count": null,
   "metadata": {},
   "outputs": [],
   "source": [
    "def to_final_class_vector(i):\n",
    "    indice = np.where(i == np.amax(i))\n",
    "    i2 = np.zeros(5)\n",
    "    i2[indice[0][0]] = 1\n",
    "    return i2"
   ]
  },
  {
   "cell_type": "code",
   "execution_count": 8,
   "metadata": {},
   "outputs": [
    {
     "data": {
      "text/plain": [
       "10"
      ]
     },
     "execution_count": 8,
     "metadata": {},
     "output_type": "execute_result"
    }
   ],
   "source": [
    "x_sets = create_k_fold_sets(X_Train)\n",
    "y_sets = create_k_fold_sets(Y_Train)\n",
    "len(x_sets)"
   ]
  },
  {
   "cell_type": "code",
   "execution_count": 4,
   "metadata": {},
   "outputs": [],
   "source": [
    "def create_nn(learning_rate = 0.001, dropout_rate = None, regression = True):\n",
    "    model = Sequential()\n",
    "    model.add(Dense(10000, activation=\"relu\", input_dim = 7))\n",
    "    if dropout_rate is not None:\n",
    "        model.add(Dropout(rate=dropout_rate))\n",
    "    model.add(Dense(10000, activation=\"relu\"))\n",
    "    if dropout_rate is not None:\n",
    "        model.add(Dropout(rate=dropout_rate))\n",
    "    model.add(Dense(10000, activation=\"relu\"))\n",
    "    if dropout_rate is not None:\n",
    "        model.add(Dropout(rate=dropout_rate))\n",
    "    model.add(Dense(10000, activation=\"relu\"))\n",
    "    if dropout_rate is not None:\n",
    "        model.add(Dropout(rate=dropout_rate))\n",
    "    model.add(Dense(10000, activation=\"relu\"))\n",
    "    if dropout_rate is not None:\n",
    "        model.add(Dropout(rate=dropout_rate))\n",
    "    model.add(Dense(10000, activation=\"relu\"))\n",
    "    if dropout_rate is not None:\n",
    "        model.add(Dropout(rate=dropout_rate))\n",
    "    model.add(Dense(10000, activation=\"relu\"))\n",
    "    if dropout_rate is not None:\n",
    "        model.add(Dropout(rate=dropout_rate))\n",
    "    model.add(Dense(10000, activation=\"relu\"))\n",
    "    if dropout_rate is not None:\n",
    "        model.add(Dropout(rate=dropout_rate))\n",
    "    model.add(Dense(10000, activation=\"relu\"))\n",
    "\n",
    "    if regression is True:\n",
    "        model.add(Dense(1, activation=\"linear\"))\n",
    "    else:\n",
    "        model.add(Dense(5, activation=\"softmax\"))\n",
    "\n",
    "    optimizer = Adam(learning_rate = learning_rate)\n",
    "\n",
    "    if regression is True:\n",
    "        model.compile(optimizer=optimizer, loss= \"mean_squared_error\", metrics= [\"MeanSquaredError\"])\n",
    "    else:\n",
    "        model.compile(optimizer=optimizer, loss= \"categorical_crossentropy\", metrics= [\"accuracy\"])\n",
    "        \n",
    "    return model"
   ]
  },
  {
   "cell_type": "code",
   "execution_count": 5,
   "metadata": {},
   "outputs": [],
   "source": [
    "def k_fold_train_nn(learning_rate, dropout_rate, regression, epochs):\n",
    "    X_Train = np.genfromtxt('txt_files/test_x_norm.txt', delimiter=\",\")\n",
    "    if regression is True:\n",
    "        Y_Train = np.genfromtxt('txt_files/test_y_continuous.txt', delimiter=\",\")\n",
    "        name = 'regression'\n",
    "        w0 = open(\"saved_models/nn/regression/model_performances.txt\", \"a\")\n",
    "    else:\n",
    "        Y_Train = np.genfromtxt('txt_files/test_y_classification.txt', delimiter=\",\")\n",
    "        name = 'classification'\n",
    "        w0 = open(\"saved_models/nn/classification/model_performances.txt\", \"a\")\n",
    "    x_sets = create_k_fold_sets(X_Train)\n",
    "    y_sets = create_k_fold_sets(Y_Train)\n",
    "    for i in range(len(x_sets)):\n",
    "\n",
    "        model = create_nn(learning_rate, dropout_rate, regression)\n",
    "\n",
    "        X_Train = x_sets[i][0]\n",
    "        Y_Train = y_sets[i][0]\n",
    "        X_Test = x_sets[i][1]\n",
    "        Y_Test = y_sets[i][1]\n",
    "        with tf.device('/device:GPU:0'):\n",
    "            trained_model = model.fit(X_Train, Y_Train, batch_size=50, epochs=epochs, verbose=0, validation_split=0.0)\n",
    "        acc = model.evaluate(X_Test, Y_Test)[1]\n",
    "        w0.write(f'{name}_model_fold_{i} | test acc: {acc}')\n",
    "        w0.write('\\n')\n",
    "        if regression is True:\n",
    "            model.save(f'saved_models/nn/regression/{name}_model_fold_{i+1}.h5')\n",
    "        else:\n",
    "            model.save(f'saved_models/nn/classification/{name}_model_fold_{i+1}.h5')\n",
    "        del model\n",
    "        del trained_model\n",
    "        gc.collect()\n",
    "        keras.backend.clear_session()\n",
    "    w0.close()"
   ]
  },
  {
   "cell_type": "code",
   "execution_count": 8,
   "metadata": {},
   "outputs": [
    {
     "name": "stdout",
     "output_type": "stream",
     "text": [
      "Metal device set to: Apple M1 Max\n",
      "\n",
      "systemMemory: 32.00 GB\n",
      "maxCacheSize: 10.67 GB\n",
      "\n"
     ]
    },
    {
     "name": "stderr",
     "output_type": "stream",
     "text": [
      "2022-04-29 17:42:29.629925: I tensorflow/core/common_runtime/pluggable_device/pluggable_device_factory.cc:305] Could not identify NUMA node of platform GPU ID 0, defaulting to 0. Your kernel may not have been built with NUMA support.\n",
      "2022-04-29 17:42:29.630055: I tensorflow/core/common_runtime/pluggable_device/pluggable_device_factory.cc:271] Created TensorFlow device (/job:localhost/replica:0/task:0/device:GPU:0 with 0 MB memory) -> physical PluggableDevice (device: 0, name: METAL, pci bus id: <undefined>)\n",
      "2022-04-29 17:42:30.099237: I tensorflow/compiler/mlir/mlir_graph_optimization_pass.cc:176] None of the MLIR Optimization Passes are enabled (registered 2)\n",
      "2022-04-29 17:42:30.099401: W tensorflow/core/platform/profile_utils/cpu_utils.cc:128] Failed to get CPU frequency: 0 Hz\n",
      "2022-04-29 17:42:36.879638: I tensorflow/core/grappler/optimizers/custom_graph_optimizer_registry.cc:112] Plugin optimizer for device_type GPU is enabled.\n"
     ]
    },
    {
     "name": "stdout",
     "output_type": "stream",
     "text": [
      "3/7 [===========>..................] - ETA: 0s - loss: 1.8090 - mean_squared_error: 1.8090"
     ]
    },
    {
     "name": "stderr",
     "output_type": "stream",
     "text": [
      "2022-04-29 17:48:54.713296: I tensorflow/core/grappler/optimizers/custom_graph_optimizer_registry.cc:112] Plugin optimizer for device_type GPU is enabled.\n"
     ]
    },
    {
     "name": "stdout",
     "output_type": "stream",
     "text": [
      "7/7 [==============================] - 1s 38ms/step - loss: 1.5152 - mean_squared_error: 1.5152\n"
     ]
    },
    {
     "name": "stderr",
     "output_type": "stream",
     "text": [
      "2022-04-29 17:49:00.892693: I tensorflow/core/grappler/optimizers/custom_graph_optimizer_registry.cc:112] Plugin optimizer for device_type GPU is enabled.\n"
     ]
    },
    {
     "name": "stdout",
     "output_type": "stream",
     "text": [
      "3/7 [===========>..................] - ETA: 0s - loss: 1.0690 - mean_squared_error: 1.0690"
     ]
    },
    {
     "name": "stderr",
     "output_type": "stream",
     "text": [
      "2022-04-29 17:55:11.570966: I tensorflow/core/grappler/optimizers/custom_graph_optimizer_registry.cc:112] Plugin optimizer for device_type GPU is enabled.\n"
     ]
    },
    {
     "name": "stdout",
     "output_type": "stream",
     "text": [
      "7/7 [==============================] - 0s 38ms/step - loss: 1.1335 - mean_squared_error: 1.1335\n"
     ]
    },
    {
     "name": "stderr",
     "output_type": "stream",
     "text": [
      "2022-04-29 17:55:17.088376: I tensorflow/core/grappler/optimizers/custom_graph_optimizer_registry.cc:112] Plugin optimizer for device_type GPU is enabled.\n"
     ]
    },
    {
     "name": "stdout",
     "output_type": "stream",
     "text": [
      "3/7 [===========>..................] - ETA: 0s - loss: 0.8953 - mean_squared_error: 0.8953"
     ]
    },
    {
     "name": "stderr",
     "output_type": "stream",
     "text": [
      "2022-04-29 18:01:25.229871: I tensorflow/core/grappler/optimizers/custom_graph_optimizer_registry.cc:112] Plugin optimizer for device_type GPU is enabled.\n"
     ]
    },
    {
     "name": "stdout",
     "output_type": "stream",
     "text": [
      "7/7 [==============================] - 0s 38ms/step - loss: 0.9420 - mean_squared_error: 0.9420\n"
     ]
    },
    {
     "name": "stderr",
     "output_type": "stream",
     "text": [
      "2022-04-29 18:01:30.520067: I tensorflow/core/grappler/optimizers/custom_graph_optimizer_registry.cc:112] Plugin optimizer for device_type GPU is enabled.\n"
     ]
    },
    {
     "name": "stdout",
     "output_type": "stream",
     "text": [
      "3/7 [===========>..................] - ETA: 0s - loss: 0.9155 - mean_squared_error: 0.9155"
     ]
    },
    {
     "name": "stderr",
     "output_type": "stream",
     "text": [
      "2022-04-29 18:07:37.485972: I tensorflow/core/grappler/optimizers/custom_graph_optimizer_registry.cc:112] Plugin optimizer for device_type GPU is enabled.\n"
     ]
    },
    {
     "name": "stdout",
     "output_type": "stream",
     "text": [
      "7/7 [==============================] - 0s 38ms/step - loss: 0.7560 - mean_squared_error: 0.7560\n"
     ]
    },
    {
     "name": "stderr",
     "output_type": "stream",
     "text": [
      "2022-04-29 18:07:42.769881: I tensorflow/core/grappler/optimizers/custom_graph_optimizer_registry.cc:112] Plugin optimizer for device_type GPU is enabled.\n"
     ]
    },
    {
     "name": "stdout",
     "output_type": "stream",
     "text": [
      "3/7 [===========>..................] - ETA: 0s - loss: 0.7931 - mean_squared_error: 0.7931"
     ]
    },
    {
     "name": "stderr",
     "output_type": "stream",
     "text": [
      "2022-04-29 18:13:49.927137: I tensorflow/core/grappler/optimizers/custom_graph_optimizer_registry.cc:112] Plugin optimizer for device_type GPU is enabled.\n"
     ]
    },
    {
     "name": "stdout",
     "output_type": "stream",
     "text": [
      "7/7 [==============================] - 0s 38ms/step - loss: 0.7554 - mean_squared_error: 0.7554\n"
     ]
    },
    {
     "name": "stderr",
     "output_type": "stream",
     "text": [
      "2022-04-29 18:13:55.206786: I tensorflow/core/grappler/optimizers/custom_graph_optimizer_registry.cc:112] Plugin optimizer for device_type GPU is enabled.\n"
     ]
    },
    {
     "name": "stdout",
     "output_type": "stream",
     "text": [
      "3/7 [===========>..................] - ETA: 0s - loss: 0.8366 - mean_squared_error: 0.8366"
     ]
    },
    {
     "name": "stderr",
     "output_type": "stream",
     "text": [
      "2022-04-29 18:20:04.719108: I tensorflow/core/grappler/optimizers/custom_graph_optimizer_registry.cc:112] Plugin optimizer for device_type GPU is enabled.\n"
     ]
    },
    {
     "name": "stdout",
     "output_type": "stream",
     "text": [
      "7/7 [==============================] - 0s 38ms/step - loss: 0.8036 - mean_squared_error: 0.8036\n"
     ]
    },
    {
     "name": "stderr",
     "output_type": "stream",
     "text": [
      "2022-04-29 18:20:09.955665: I tensorflow/core/grappler/optimizers/custom_graph_optimizer_registry.cc:112] Plugin optimizer for device_type GPU is enabled.\n"
     ]
    },
    {
     "name": "stdout",
     "output_type": "stream",
     "text": [
      "3/7 [===========>..................] - ETA: 0s - loss: 0.9699 - mean_squared_error: 0.9699"
     ]
    },
    {
     "name": "stderr",
     "output_type": "stream",
     "text": [
      "2022-04-29 18:26:18.848189: I tensorflow/core/grappler/optimizers/custom_graph_optimizer_registry.cc:112] Plugin optimizer for device_type GPU is enabled.\n"
     ]
    },
    {
     "name": "stdout",
     "output_type": "stream",
     "text": [
      "7/7 [==============================] - 0s 38ms/step - loss: 1.0914 - mean_squared_error: 1.0914\n"
     ]
    },
    {
     "name": "stderr",
     "output_type": "stream",
     "text": [
      "2022-04-29 18:26:24.099146: I tensorflow/core/grappler/optimizers/custom_graph_optimizer_registry.cc:112] Plugin optimizer for device_type GPU is enabled.\n"
     ]
    },
    {
     "name": "stdout",
     "output_type": "stream",
     "text": [
      "3/7 [===========>..................] - ETA: 0s - loss: 1.1757 - mean_squared_error: 1.1757"
     ]
    },
    {
     "name": "stderr",
     "output_type": "stream",
     "text": [
      "2022-04-29 18:32:33.220301: I tensorflow/core/grappler/optimizers/custom_graph_optimizer_registry.cc:112] Plugin optimizer for device_type GPU is enabled.\n"
     ]
    },
    {
     "name": "stdout",
     "output_type": "stream",
     "text": [
      "7/7 [==============================] - 0s 38ms/step - loss: 1.0593 - mean_squared_error: 1.0593\n"
     ]
    },
    {
     "name": "stderr",
     "output_type": "stream",
     "text": [
      "2022-04-29 18:32:38.394336: I tensorflow/core/grappler/optimizers/custom_graph_optimizer_registry.cc:112] Plugin optimizer for device_type GPU is enabled.\n"
     ]
    },
    {
     "name": "stdout",
     "output_type": "stream",
     "text": [
      "3/7 [===========>..................] - ETA: 0s - loss: 0.8463 - mean_squared_error: 0.8463"
     ]
    },
    {
     "name": "stderr",
     "output_type": "stream",
     "text": [
      "2022-04-29 18:38:47.017848: I tensorflow/core/grappler/optimizers/custom_graph_optimizer_registry.cc:112] Plugin optimizer for device_type GPU is enabled.\n"
     ]
    },
    {
     "name": "stdout",
     "output_type": "stream",
     "text": [
      "7/7 [==============================] - 0s 38ms/step - loss: 0.9075 - mean_squared_error: 0.9075\n"
     ]
    },
    {
     "name": "stderr",
     "output_type": "stream",
     "text": [
      "2022-04-29 18:38:52.331780: I tensorflow/core/grappler/optimizers/custom_graph_optimizer_registry.cc:112] Plugin optimizer for device_type GPU is enabled.\n"
     ]
    },
    {
     "name": "stdout",
     "output_type": "stream",
     "text": [
      "3/7 [===========>..................] - ETA: 0s - loss: 0.7335 - mean_squared_error: 0.7335"
     ]
    },
    {
     "name": "stderr",
     "output_type": "stream",
     "text": [
      "2022-04-29 18:44:59.737185: I tensorflow/core/grappler/optimizers/custom_graph_optimizer_registry.cc:112] Plugin optimizer for device_type GPU is enabled.\n"
     ]
    },
    {
     "name": "stdout",
     "output_type": "stream",
     "text": [
      "7/7 [==============================] - 0s 38ms/step - loss: 0.8351 - mean_squared_error: 0.8351\n"
     ]
    },
    {
     "data": {
      "text/plain": [
       "<Figure size 432x288 with 0 Axes>"
      ]
     },
     "metadata": {},
     "output_type": "display_data"
    }
   ],
   "source": [
    "k_fold_train_nn(0.001, 0.1, True, 50)"
   ]
  },
  {
   "cell_type": "code",
   "execution_count": 6,
   "metadata": {},
   "outputs": [
    {
     "name": "stdout",
     "output_type": "stream",
     "text": [
      "Metal device set to: Apple M1 Max\n",
      "\n",
      "systemMemory: 32.00 GB\n",
      "maxCacheSize: 10.67 GB\n",
      "\n"
     ]
    },
    {
     "name": "stderr",
     "output_type": "stream",
     "text": [
      "2022-04-29 18:47:30.625753: I tensorflow/core/common_runtime/pluggable_device/pluggable_device_factory.cc:305] Could not identify NUMA node of platform GPU ID 0, defaulting to 0. Your kernel may not have been built with NUMA support.\n",
      "2022-04-29 18:47:30.625881: I tensorflow/core/common_runtime/pluggable_device/pluggable_device_factory.cc:271] Created TensorFlow device (/job:localhost/replica:0/task:0/device:GPU:0 with 0 MB memory) -> physical PluggableDevice (device: 0, name: METAL, pci bus id: <undefined>)\n",
      "2022-04-29 18:47:31.098562: I tensorflow/compiler/mlir/mlir_graph_optimization_pass.cc:176] None of the MLIR Optimization Passes are enabled (registered 2)\n",
      "2022-04-29 18:47:31.098762: W tensorflow/core/platform/profile_utils/cpu_utils.cc:128] Failed to get CPU frequency: 0 Hz\n",
      "2022-04-29 18:47:37.615247: I tensorflow/core/grappler/optimizers/custom_graph_optimizer_registry.cc:112] Plugin optimizer for device_type GPU is enabled.\n"
     ]
    },
    {
     "name": "stdout",
     "output_type": "stream",
     "text": [
      "3/7 [===========>..................] - ETA: 0s - loss: 1.6711 - accuracy: 0.2396"
     ]
    },
    {
     "name": "stderr",
     "output_type": "stream",
     "text": [
      "2022-04-29 18:53:50.687336: I tensorflow/core/grappler/optimizers/custom_graph_optimizer_registry.cc:112] Plugin optimizer for device_type GPU is enabled.\n"
     ]
    },
    {
     "name": "stdout",
     "output_type": "stream",
     "text": [
      "7/7 [==============================] - 1s 40ms/step - loss: 1.5725 - accuracy: 0.2900\n"
     ]
    },
    {
     "name": "stderr",
     "output_type": "stream",
     "text": [
      "2022-04-29 18:53:55.963978: I tensorflow/core/grappler/optimizers/custom_graph_optimizer_registry.cc:112] Plugin optimizer for device_type GPU is enabled.\n"
     ]
    },
    {
     "name": "stdout",
     "output_type": "stream",
     "text": [
      "2/7 [=======>......................] - ETA: 0s - loss: 1.2212 - accuracy: 0.4219"
     ]
    },
    {
     "name": "stderr",
     "output_type": "stream",
     "text": [
      "2022-04-29 19:00:00.592335: I tensorflow/core/grappler/optimizers/custom_graph_optimizer_registry.cc:112] Plugin optimizer for device_type GPU is enabled.\n"
     ]
    },
    {
     "name": "stdout",
     "output_type": "stream",
     "text": [
      "7/7 [==============================] - 0s 41ms/step - loss: 1.4166 - accuracy: 0.4250\n"
     ]
    },
    {
     "name": "stderr",
     "output_type": "stream",
     "text": [
      "2022-04-29 19:00:05.420752: I tensorflow/core/grappler/optimizers/custom_graph_optimizer_registry.cc:112] Plugin optimizer for device_type GPU is enabled.\n"
     ]
    },
    {
     "name": "stdout",
     "output_type": "stream",
     "text": [
      "3/7 [===========>..................] - ETA: 0s - loss: 1.3383 - accuracy: 0.4062"
     ]
    },
    {
     "name": "stderr",
     "output_type": "stream",
     "text": [
      "2022-04-29 19:06:09.778290: I tensorflow/core/grappler/optimizers/custom_graph_optimizer_registry.cc:112] Plugin optimizer for device_type GPU is enabled.\n"
     ]
    },
    {
     "name": "stdout",
     "output_type": "stream",
     "text": [
      "7/7 [==============================] - 0s 40ms/step - loss: 1.4110 - accuracy: 0.3650\n"
     ]
    },
    {
     "name": "stderr",
     "output_type": "stream",
     "text": [
      "2022-04-29 19:06:14.724339: I tensorflow/core/grappler/optimizers/custom_graph_optimizer_registry.cc:112] Plugin optimizer for device_type GPU is enabled.\n"
     ]
    },
    {
     "name": "stdout",
     "output_type": "stream",
     "text": [
      "4/7 [================>.............] - ETA: 0s - loss: 1.1837 - accuracy: 0.3672"
     ]
    },
    {
     "name": "stderr",
     "output_type": "stream",
     "text": [
      "2022-04-29 19:12:19.004726: I tensorflow/core/grappler/optimizers/custom_graph_optimizer_registry.cc:112] Plugin optimizer for device_type GPU is enabled.\n"
     ]
    },
    {
     "name": "stdout",
     "output_type": "stream",
     "text": [
      "7/7 [==============================] - 0s 41ms/step - loss: 1.1818 - accuracy: 0.3700\n"
     ]
    },
    {
     "name": "stderr",
     "output_type": "stream",
     "text": [
      "2022-04-29 19:12:23.851235: I tensorflow/core/grappler/optimizers/custom_graph_optimizer_registry.cc:112] Plugin optimizer for device_type GPU is enabled.\n"
     ]
    },
    {
     "name": "stdout",
     "output_type": "stream",
     "text": [
      "2/7 [=======>......................] - ETA: 0s - loss: 1.2224 - accuracy: 0.4531"
     ]
    },
    {
     "name": "stderr",
     "output_type": "stream",
     "text": [
      "2022-04-29 19:18:42.901954: I tensorflow/core/grappler/optimizers/custom_graph_optimizer_registry.cc:112] Plugin optimizer for device_type GPU is enabled.\n"
     ]
    },
    {
     "name": "stdout",
     "output_type": "stream",
     "text": [
      "7/7 [==============================] - 0s 42ms/step - loss: 1.2111 - accuracy: 0.4600\n"
     ]
    },
    {
     "name": "stderr",
     "output_type": "stream",
     "text": [
      "2022-04-29 19:18:48.479271: I tensorflow/core/grappler/optimizers/custom_graph_optimizer_registry.cc:112] Plugin optimizer for device_type GPU is enabled.\n"
     ]
    },
    {
     "name": "stdout",
     "output_type": "stream",
     "text": [
      "3/7 [===========>..................] - ETA: 0s - loss: 1.2147 - accuracy: 0.3750"
     ]
    },
    {
     "name": "stderr",
     "output_type": "stream",
     "text": [
      "2022-04-29 19:25:12.015371: I tensorflow/core/grappler/optimizers/custom_graph_optimizer_registry.cc:112] Plugin optimizer for device_type GPU is enabled.\n"
     ]
    },
    {
     "name": "stdout",
     "output_type": "stream",
     "text": [
      "7/7 [==============================] - 0s 41ms/step - loss: 1.1976 - accuracy: 0.3950\n"
     ]
    },
    {
     "name": "stderr",
     "output_type": "stream",
     "text": [
      "2022-04-29 19:25:17.304087: I tensorflow/core/grappler/optimizers/custom_graph_optimizer_registry.cc:112] Plugin optimizer for device_type GPU is enabled.\n"
     ]
    },
    {
     "name": "stdout",
     "output_type": "stream",
     "text": [
      "3/7 [===========>..................] - ETA: 0s - loss: 1.2545 - accuracy: 0.4479"
     ]
    },
    {
     "name": "stderr",
     "output_type": "stream",
     "text": [
      "2022-04-29 19:31:27.587838: I tensorflow/core/grappler/optimizers/custom_graph_optimizer_registry.cc:112] Plugin optimizer for device_type GPU is enabled.\n"
     ]
    },
    {
     "name": "stdout",
     "output_type": "stream",
     "text": [
      "7/7 [==============================] - 0s 40ms/step - loss: 1.3351 - accuracy: 0.4550\n"
     ]
    },
    {
     "name": "stderr",
     "output_type": "stream",
     "text": [
      "2022-04-29 19:31:32.642661: I tensorflow/core/grappler/optimizers/custom_graph_optimizer_registry.cc:112] Plugin optimizer for device_type GPU is enabled.\n"
     ]
    },
    {
     "name": "stdout",
     "output_type": "stream",
     "text": [
      "3/7 [===========>..................] - ETA: 0s - loss: 1.2036 - accuracy: 0.5208"
     ]
    },
    {
     "name": "stderr",
     "output_type": "stream",
     "text": [
      "2022-04-29 19:37:37.231261: I tensorflow/core/grappler/optimizers/custom_graph_optimizer_registry.cc:112] Plugin optimizer for device_type GPU is enabled.\n"
     ]
    },
    {
     "name": "stdout",
     "output_type": "stream",
     "text": [
      "7/7 [==============================] - 0s 40ms/step - loss: 1.2466 - accuracy: 0.4650\n"
     ]
    },
    {
     "name": "stderr",
     "output_type": "stream",
     "text": [
      "2022-04-29 19:37:42.149293: I tensorflow/core/grappler/optimizers/custom_graph_optimizer_registry.cc:112] Plugin optimizer for device_type GPU is enabled.\n"
     ]
    },
    {
     "name": "stdout",
     "output_type": "stream",
     "text": [
      "2/7 [=======>......................] - ETA: 0s - loss: 1.2058 - accuracy: 0.5156"
     ]
    },
    {
     "name": "stderr",
     "output_type": "stream",
     "text": [
      "2022-04-29 19:43:46.830211: I tensorflow/core/grappler/optimizers/custom_graph_optimizer_registry.cc:112] Plugin optimizer for device_type GPU is enabled.\n"
     ]
    },
    {
     "name": "stdout",
     "output_type": "stream",
     "text": [
      "7/7 [==============================] - 0s 41ms/step - loss: 1.1177 - accuracy: 0.5150\n"
     ]
    },
    {
     "name": "stderr",
     "output_type": "stream",
     "text": [
      "2022-04-29 19:43:52.062385: I tensorflow/core/grappler/optimizers/custom_graph_optimizer_registry.cc:112] Plugin optimizer for device_type GPU is enabled.\n"
     ]
    },
    {
     "name": "stdout",
     "output_type": "stream",
     "text": [
      "2/7 [=======>......................] - ETA: 0s - loss: 1.2803 - accuracy: 0.4844"
     ]
    },
    {
     "name": "stderr",
     "output_type": "stream",
     "text": [
      "2022-04-29 19:49:56.707800: I tensorflow/core/grappler/optimizers/custom_graph_optimizer_registry.cc:112] Plugin optimizer for device_type GPU is enabled.\n"
     ]
    },
    {
     "name": "stdout",
     "output_type": "stream",
     "text": [
      "7/7 [==============================] - 0s 42ms/step - loss: 1.3220 - accuracy: 0.4250\n"
     ]
    }
   ],
   "source": [
    "k_fold_train_nn(0.002, None, False, 50)"
   ]
  },
  {
   "cell_type": "code",
   "execution_count": null,
   "metadata": {},
   "outputs": [],
   "source": [
    "def ensemble_nn_prediction(models, regression, X):\n",
    "    pred = None\n",
    "    preds = []\n",
    "    if regression:\n",
    "        for model in models:\n",
    "            predY = model.predict(X)\n",
    "            preds.append(predY)\n",
    "        avg = np.average(np.array(preds))\n",
    "        pred = avg\n",
    "    else:\n",
    "        for model in models:\n",
    "            predY = model.predict(X)\n",
    "            preds.append(predY[0])\n",
    "        preds = np.array(pred)\n",
    "        pred = np.sum(preds, axis=0)\n",
    "        pred = to_final_class_vector(pred)\n",
    "\n",
    "    return pred"
   ]
  }
 ],
 "metadata": {
  "interpreter": {
   "hash": "28dc3387228530e489fa2863a9023ea8985cbe2603a5639e863ec2d3368621b1"
  },
  "kernelspec": {
   "display_name": "Python 3.9.10",
   "language": "python",
   "name": "python3"
  },
  "language_info": {
   "codemirror_mode": {
    "name": "ipython",
    "version": 3
   },
   "file_extension": ".py",
   "mimetype": "text/x-python",
   "name": "python",
   "nbconvert_exporter": "python",
   "pygments_lexer": "ipython3",
   "version": "3.9.15 (main, Nov 24 2022, 08:28:41) \n[Clang 14.0.6 ]"
  },
  "orig_nbformat": 4
 },
 "nbformat": 4,
 "nbformat_minor": 2
}
